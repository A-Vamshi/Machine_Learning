{
 "cells": [
  {
   "cell_type": "code",
   "execution_count": 2,
   "id": "49d163a0",
   "metadata": {},
   "outputs": [],
   "source": [
    "import numpy as np\n",
    "import pandas as pd"
   ]
  },
  {
   "cell_type": "code",
   "execution_count": 50,
   "id": "1258bdb1",
   "metadata": {},
   "outputs": [],
   "source": [
    "data = open(\"shakesphere.txt\").read()"
   ]
  },
  {
   "cell_type": "code",
   "execution_count": 59,
   "id": "f5dcda64",
   "metadata": {},
   "outputs": [],
   "source": [
    "chars = sorted(list(set(data)))\n",
    "vocabulary_size = len(chars)"
   ]
  },
  {
   "cell_type": "code",
   "execution_count": 62,
   "id": "43b17ec5",
   "metadata": {},
   "outputs": [
    {
     "name": "stdout",
     "output_type": "stream",
     "text": [
      "[20, 47, 1, 46, 43, 50, 50, 53]\n",
      "Hi hello\n"
     ]
    }
   ],
   "source": [
    "c_to_i = { ch: i for i, ch in enumerate(chars)}\n",
    "i_to_c = { i: ch for i, ch in enumerate(chars)}\n",
    "encode = lambda x : [c_to_i[ch] for ch in x]\n",
    "decode = lambda x : \"\".join([i_to_c[i] for i in x])\n",
    "print(encode(\"Hi hello\"))\n",
    "print(decode(encode(\"Hi hello\")))"
   ]
  },
  {
   "cell_type": "code",
   "execution_count": null,
   "id": "ebdfc04f",
   "metadata": {},
   "outputs": [],
   "source": []
  }
 ],
 "metadata": {
  "kernelspec": {
   "display_name": "base",
   "language": "python",
   "name": "python3"
  },
  "language_info": {
   "codemirror_mode": {
    "name": "ipython",
    "version": 3
   },
   "file_extension": ".py",
   "mimetype": "text/x-python",
   "name": "python",
   "nbconvert_exporter": "python",
   "pygments_lexer": "ipython3",
   "version": "3.12.7"
  }
 },
 "nbformat": 4,
 "nbformat_minor": 5
}
