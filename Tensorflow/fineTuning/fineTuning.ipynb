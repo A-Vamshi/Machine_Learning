{
 "cells": [
  {
   "cell_type": "code",
   "execution_count": null,
   "id": "dd430d18",
   "metadata": {},
   "outputs": [],
   "source": [
    "import tensorflow as tf\n",
    "from tensorflow import keras\n",
    "from tensorflow.keras import layers"
   ]
  },
  {
   "cell_type": "code",
   "execution_count": null,
   "id": "3524f0a2",
   "metadata": {},
   "outputs": [],
   "source": [
    "model = keras.models.load_model(\"model_file_path/\")\n",
    "base_inputs = model.layers[0].input\n",
    "base_outputs = model.layers[-2].output\n",
    "final_outputs = layers.Dense(10)(base_outputs)\n",
    "\n",
    "new_model = keras.Model(inputs=base_inputs, outputs=final_outputs)"
   ]
  },
  {
   "cell_type": "code",
   "execution_count": null,
   "id": "6c568795",
   "metadata": {},
   "outputs": [],
   "source": [
    "model = keras.models.load_model(\"model_file_path/\")\n",
    "# For fine-tuning a model\n",
    "model.trainable = False\n",
    "for layer in model.layers[:]:\n",
    "    # assert layer.trainable == False\n",
    "    layer.trainable = False\n",
    "\n",
    "base_inputs = model.layers[0].input\n",
    "base_outputs = model.layers[-2].output\n",
    "final_outputs = layers.Dense(10)(base_outputs)\n",
    "\n",
    "new_model = keras.Model(inputs=base_inputs, outputs=final_outputs)"
   ]
  },
  {
   "cell_type": "code",
   "execution_count": null,
   "id": "59a8cba0",
   "metadata": {},
   "outputs": [],
   "source": []
  }
 ],
 "metadata": {
  "language_info": {
   "name": "python"
  }
 },
 "nbformat": 4,
 "nbformat_minor": 5
}
