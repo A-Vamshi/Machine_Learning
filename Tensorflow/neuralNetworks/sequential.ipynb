{
 "cells": [
  {
   "cell_type": "code",
   "execution_count": 2,
   "id": "1ff29776",
   "metadata": {},
   "outputs": [],
   "source": [
    "import tensorflow as tf\n",
    "from tensorflow import keras\n",
    "from tensorflow.keras import layers\n",
    "from tensorflow.keras.datasets import mnist"
   ]
  },
  {
   "cell_type": "code",
   "execution_count": 3,
   "id": "04573a37",
   "metadata": {},
   "outputs": [],
   "source": [
    "(x_train, y_train), (x_test, y_test) = mnist.load_data()"
   ]
  },
  {
   "cell_type": "code",
   "execution_count": null,
   "id": "f72c7f9d",
   "metadata": {},
   "outputs": [],
   "source": [
    "x_train = x_train.reshape(-1, 28*28).astype(\"float32\") / 255.0\n",
    "x_test = x_test.reshape(-1, 28*28).astype(\"float32\") / 255.0"
   ]
  },
  {
   "cell_type": "markdown",
   "id": "5570df56",
   "metadata": {},
   "source": [
    "## Sequential API (convinient but not flexible)\n",
    "### only 1 input mapped to 1 output"
   ]
  },
  {
   "cell_type": "code",
   "execution_count": null,
   "id": "a5a9852c",
   "metadata": {},
   "outputs": [],
   "source": [
    "model = keras.Sequential([\n",
    "    layers.Dense(784, activation=\"relu\"),\n",
    "    layers.Dense(398, activation=\"relu\"),\n",
    "    layers.Dense(10)\n",
    "])\n",
    "model.compile(\n",
    "    loss=keras.losses.SparseCategoricalCrossentropy(from_logits=True),\n",
    "    optimizer=keras.optimizers.Adam(learning_rate=0.01),\n",
    "    metrics=[\"accuracy\"]\n",
    ")\n",
    "model.fit(x_train, y_train, batch_size=32, epochs=5, verbose=2)\n",
    "model.evaluate(x_test, y_test, batch_size=32, verbose=2)"
   ]
  },
  {
   "cell_type": "code",
   "execution_count": 18,
   "id": "8fc770e3",
   "metadata": {},
   "outputs": [],
   "source": [
    "model = keras.Sequential()\n",
    "model.add(keras.Input(shape=(784, 1)))\n",
    "model.add(layers.Dense(512, activation=\"relu\"))\n",
    "model.add(layers.Dense(256, activation=\"relu\"))\n",
    "model.add(layers.Dense(10))"
   ]
  },
  {
   "cell_type": "markdown",
   "id": "77b1caba",
   "metadata": {},
   "source": [
    "## Functional API (A bit more flexile)"
   ]
  },
  {
   "cell_type": "code",
   "execution_count": 45,
   "id": "e823f507",
   "metadata": {},
   "outputs": [],
   "source": [
    "# inputs = keras.Input(shape=(784))\n",
    "# x = layers.Dense(512, activation=\"relu\")(inputs)\n",
    "# x = layers.Dense(256, activation=\"relu\")(x)\n",
    "# outputs = layers.Dense(10, activation=\"softmax\")(x)\n",
    "# model = keras.Model(inputs=inputs, outputs=outputs)"
   ]
  },
  {
   "cell_type": "code",
   "execution_count": 44,
   "id": "171c4f30",
   "metadata": {},
   "outputs": [],
   "source": [
    "# model.compile(\n",
    "#     loss=keras.losses.SparseCategoricalCrossentropy(),\n",
    "#     optimizer=keras.optimizers.Adam(learning_rate=0.001),\n",
    "#     metrics=[\"accuracy\"]\n",
    "# )\n",
    "# model.fit(x_train, y_train, batch_size=32, epochs=4, verbose=2)"
   ]
  },
  {
   "cell_type": "code",
   "execution_count": null,
   "id": "c356f3f2",
   "metadata": {},
   "outputs": [],
   "source": []
  }
 ],
 "metadata": {
  "kernelspec": {
   "display_name": "base",
   "language": "python",
   "name": "python3"
  },
  "language_info": {
   "codemirror_mode": {
    "name": "ipython",
    "version": 3
   },
   "file_extension": ".py",
   "mimetype": "text/x-python",
   "name": "python",
   "nbconvert_exporter": "python",
   "pygments_lexer": "ipython3",
   "version": "3.12.7"
  }
 },
 "nbformat": 4,
 "nbformat_minor": 5
}
