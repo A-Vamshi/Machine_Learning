{
 "cells": [
  {
   "cell_type": "code",
   "execution_count": 2,
   "id": "abebd23c",
   "metadata": {},
   "outputs": [],
   "source": [
    "import tensorflow as tf"
   ]
  },
  {
   "cell_type": "markdown",
   "id": "d61f42ca",
   "metadata": {},
   "source": [
    "## Initialization of Tensors"
   ]
  },
  {
   "cell_type": "code",
   "execution_count": 93,
   "id": "230c8b1b",
   "metadata": {},
   "outputs": [
    {
     "data": {
      "text/plain": [
       "<tf.Tensor: shape=(5,), dtype=float32, numpy=array([0., 1., 2., 3., 4.], dtype=float32)>"
      ]
     },
     "execution_count": 93,
     "metadata": {},
     "output_type": "execute_result"
    }
   ],
   "source": [
    "x = tf.constant(5)\n",
    "x = tf.constant(5, shape=(1, 1))\n",
    "x = tf.constant(5, shape=(2,2), dtype=tf.float32)\n",
    "x = tf.constant([[1,2,3],[1,4,5]])\n",
    "x = tf.ones((3,3))\n",
    "x = tf.zeros((2,2))\n",
    "x = tf.eye(4)\n",
    "x = tf.random.normal((4,4), mean=0, stddev=2)\n",
    "x = tf.random.uniform((3,3), minval=5, maxval=10)\n",
    "x = tf.range(5)\n",
    "x = tf.cast(x, tf.float32)\n",
    "x"
   ]
  },
  {
   "cell_type": "markdown",
   "id": "3e5608e2",
   "metadata": {},
   "source": [
    "## Mathematical operations"
   ]
  },
  {
   "cell_type": "code",
   "execution_count": 92,
   "id": "ae1ed3e1",
   "metadata": {},
   "outputs": [
    {
     "data": {
      "text/plain": [
       "<tf.Tensor: shape=(2, 5), dtype=float32, numpy=\n",
       "array([[ 0.21624282,  1.3492941 , -0.2857641 , -0.5967815 ,  0.7387372 ],\n",
       "       [ 0.5025091 ,  1.7885462 , -2.2152927 , -1.0965823 ,  2.9443574 ]],\n",
       "      dtype=float32)>"
      ]
     },
     "execution_count": 92,
     "metadata": {},
     "output_type": "execute_result"
    }
   ],
   "source": [
    "x = tf.constant([1,2,3])\n",
    "y = tf.constant([9,8,7])\n",
    "z = tf.add(x, y)\n",
    "z = x + y\n",
    "z = tf.subtract(x,y)\n",
    "z = x - y\n",
    "z = tf.divide(x, y)\n",
    "z = y / x\n",
    "z = tf.multiply(x, y)\n",
    "z = x * y\n",
    "z = tf.tensordot(x, y, axes=1)\n",
    "z = tf.reduce_sum(x*y, axis=0)\n",
    "z = x ** 2\n",
    "\n",
    "x = tf.random.normal((2,3))\n",
    "y = tf.random.normal((3,5))\n",
    "z1 = tf.matmul(x, y)\n",
    "z2 = x @ y\n",
    "z2"
   ]
  },
  {
   "cell_type": "markdown",
   "id": "e577bea7",
   "metadata": {},
   "source": [
    "## Indexing"
   ]
  },
  {
   "cell_type": "code",
   "execution_count": 82,
   "id": "3637b575",
   "metadata": {},
   "outputs": [
    {
     "data": {
      "text/plain": [
       "<tf.Tensor: shape=(2, 2), dtype=int32, numpy=\n",
       "array([[1, 2],\n",
       "       [3, 4]], dtype=int32)>"
      ]
     },
     "execution_count": 82,
     "metadata": {},
     "output_type": "execute_result"
    }
   ],
   "source": [
    "x = tf.constant([0, 1, 1, 2, 3, 1, 2, 3])\n",
    "x[:]\n",
    "x[1:]\n",
    "x[1:3]\n",
    "x[::2]\n",
    "x[::-1]\n",
    "indices = tf.constant([0,6])\n",
    "z = tf.gather(x, indices)\n",
    "x = tf.constant([[1,2],\n",
    "                 [3,4],\n",
    "                 [5,6]])\n",
    "x[0]\n",
    "x[0:2]"
   ]
  },
  {
   "cell_type": "markdown",
   "id": "e166a4e8",
   "metadata": {},
   "source": [
    "## Reshaping"
   ]
  },
  {
   "cell_type": "code",
   "execution_count": 91,
   "id": "1e7d50d5",
   "metadata": {},
   "outputs": [
    {
     "data": {
      "text/plain": [
       "<tf.Tensor: shape=(3, 3), dtype=int32, numpy=\n",
       "array([[0, 3, 6],\n",
       "       [1, 4, 7],\n",
       "       [2, 5, 8]], dtype=int32)>"
      ]
     },
     "execution_count": 91,
     "metadata": {},
     "output_type": "execute_result"
    }
   ],
   "source": [
    "x = tf.range(9)\n",
    "x = tf.reshape(x, (3,3))\n",
    "x = tf.transpose(x)\n",
    "x"
   ]
  }
 ],
 "metadata": {
  "kernelspec": {
   "display_name": "base",
   "language": "python",
   "name": "python3"
  },
  "language_info": {
   "codemirror_mode": {
    "name": "ipython",
    "version": 3
   },
   "file_extension": ".py",
   "mimetype": "text/x-python",
   "name": "python",
   "nbconvert_exporter": "python",
   "pygments_lexer": "ipython3",
   "version": "3.12.7"
  }
 },
 "nbformat": 4,
 "nbformat_minor": 5
}
