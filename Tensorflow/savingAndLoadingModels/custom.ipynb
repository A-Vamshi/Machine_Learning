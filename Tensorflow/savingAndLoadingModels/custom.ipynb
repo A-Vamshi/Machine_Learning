{
 "cells": [
  {
   "cell_type": "code",
   "execution_count": null,
   "id": "a075811c",
   "metadata": {},
   "outputs": [],
   "source": [
    "import tensorflow as tf\n",
    "from tensorflow import keras\n",
    "from tensorflow.keras import layers\n",
    "from tensorflow.keras.datasets import mnist"
   ]
  },
  {
   "cell_type": "code",
   "execution_count": null,
   "id": "42f59930",
   "metadata": {},
   "outputs": [],
   "source": [
    "(x_train, y_train), (x_test, y_test) = mnist.load_data()\n",
    "x_train = x_train.reshape(-1, 28, 28, 1).astype(\"float32\") / 255.0\n",
    "x_test = x_test.reshape(-1, 28, 28, 1).astype(\"float32\") / 255.0"
   ]
  },
  {
   "cell_type": "code",
   "execution_count": null,
   "id": "3876c5bd",
   "metadata": {},
   "outputs": [],
   "source": [
    "model = keras.Sequential([\n",
    "    layers.Dense(64, activation=\"relu\"),\n",
    "    layers.Dense(10)\n",
    "])"
   ]
  },
  {
   "cell_type": "code",
   "execution_count": null,
   "id": "b03cbad0",
   "metadata": {},
   "outputs": [],
   "source": [
    "model = keras.Sequential()\n",
    "model.add(layers.Dense(64, activation=\"relu\"))\n",
    "model.add(layers.Dense(10))"
   ]
  },
  {
   "cell_type": "code",
   "execution_count": null,
   "id": "747e3ed6",
   "metadata": {},
   "outputs": [],
   "source": [
    "inputs = keras.Input(784)\n",
    "x = layers.Dense(64, activation=\"relu\")(inputs)\n",
    "outputs = layers.Dense(10)(x)\n",
    "model = keras.Model(inputs=inputs, outputs=outputs)"
   ]
  },
  {
   "cell_type": "code",
   "execution_count": null,
   "id": "a6016fcd",
   "metadata": {},
   "outputs": [],
   "source": [
    "class MyModel(keras.Model):\n",
    "    def __init__(self):\n",
    "        super(MyModel, self).__init__()\n",
    "        self.dense1 = layers.Dense(64, activation=\"relu\")\n",
    "        self.dense2 = layers.Dense(10)\n",
    "\n",
    "    def call(self, input_tensor):\n",
    "        x = tf.nn.relu(self.dense1(input_tensor))\n",
    "        return self.dense2(x)\n",
    "    \n",
    "\n",
    "model = MyModel()\n"
   ]
  },
  {
   "cell_type": "markdown",
   "id": "3f23e70d",
   "metadata": {},
   "source": [
    "## How to save and load model weights"
   ]
  },
  {
   "cell_type": "code",
   "execution_count": null,
   "id": "9edbaeb8",
   "metadata": {},
   "outputs": [],
   "source": [
    "# model.compile(...)\n",
    "# model.fit(...)\n",
    "# model.evaluate(...)\n",
    "model.save_weights(\"saved_model/\")\n",
    "# Create a variable model\n",
    "# Use the same architecture for the model (sequential / functional api)\n",
    "# and then load the weights\n",
    "model.load_weights(\"saved_model/\")"
   ]
  },
  {
   "cell_type": "markdown",
   "id": "695f511e",
   "metadata": {},
   "source": [
    "## How to save and load the entire model (serializing model)\n",
    "- Saves weights\n",
    "- Saves model architecture\n",
    "- Training configuration (model.compile)\n",
    "- Optimizers and states"
   ]
  },
  {
   "cell_type": "code",
   "execution_count": null,
   "id": "5936b9fe",
   "metadata": {},
   "outputs": [],
   "source": [
    "model.save(\"complete_saved_model/\")\n",
    "# Load model : ->\n",
    "model = keras.models.load_model(\"complete_saved_model/\")"
   ]
  }
 ],
 "metadata": {
  "language_info": {
   "name": "python"
  }
 },
 "nbformat": 4,
 "nbformat_minor": 5
}
