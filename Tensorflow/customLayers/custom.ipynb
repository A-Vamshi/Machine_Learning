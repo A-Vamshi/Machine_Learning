{
 "cells": [
  {
   "cell_type": "code",
   "execution_count": null,
   "id": "a075811c",
   "metadata": {},
   "outputs": [],
   "source": [
    "import tensorflow as tf\n",
    "from tensorflow import keras\n",
    "from tensorflow.keras import layers\n",
    "from tensorflow.keras.datasets import mnist"
   ]
  },
  {
   "cell_type": "code",
   "execution_count": null,
   "id": "42f59930",
   "metadata": {},
   "outputs": [],
   "source": [
    "(x_train, y_train), (x_test, y_test) = mnist.load_data()\n",
    "x_train = x_train.reshape(-1, 28, 28, 1).astype(\"float32\") / 255.0\n",
    "x_test = x_test.reshape(-1, 28, 28, 1).astype(\"float32\") / 255.0"
   ]
  },
  {
   "cell_type": "code",
   "execution_count": null,
   "id": "2e2ca937",
   "metadata": {},
   "outputs": [],
   "source": [
    "class MyModel(keras.Model):\n",
    "  def __init__(self, num_classes=10):\n",
    "    super(MyModel, self).__init__()\n",
    "    self.dense1 = layers.Dense(64)\n",
    "    self.dense2 = layers.Dense(num_classes)\n",
    "  \n",
    "  def call(self, input_tensor):\n",
    "    x = tf.nn.relu(self.dense1(input_tensor))\n",
    "    return self.dense2(x)"
   ]
  },
  {
   "cell_type": "markdown",
   "id": "b6f35891",
   "metadata": {},
   "source": [
    "# We'll created the layers.Dense ourselves"
   ]
  },
  {
   "cell_type": "code",
   "execution_count": null,
   "id": "d623831b",
   "metadata": {},
   "outputs": [],
   "source": [
    "class Dense(layers.Layer):\n",
    "    def __init__(self, units, input_dimension):\n",
    "        super(Dense, self).__init__()\n",
    "        self.w = self.add_weight(name=\"w\", shape=(input_dimension, units), initializer=\"random_normal\", trainable=True)\n",
    "        self.b = self.add_weight(name=\"b\", shape=(units, 1), initializer=\"zeros\", trainable=True)\n",
    "\n",
    "    def call(self, inputs):\n",
    "        return tf.mutmul(inputs, self.w) + self.b"
   ]
  },
  {
   "cell_type": "code",
   "execution_count": null,
   "id": "05e0ef7f",
   "metadata": {},
   "outputs": [],
   "source": [
    "class MyModel(keras.Model):\n",
    "  def __init__(self, num_classes=10):\n",
    "    super(MyModel, self).__init__()\n",
    "    self.dense1 = Dense(64, 748)\n",
    "    self.dense2 = Dense(10, 64)\n",
    "  \n",
    "  def call(self, input_tensor):\n",
    "    x = tf.nn.relu(self.dense1(input_tensor))\n",
    "    return self.dense2(x)"
   ]
  },
  {
   "cell_type": "code",
   "execution_count": null,
   "id": "348b28ed",
   "metadata": {},
   "outputs": [],
   "source": [
    "class Dense(layers.Layer):\n",
    "    def __init__(self, units):\n",
    "        super(Dense, self).__init__()\n",
    "        self.units = units\n",
    "\n",
    "    def call(self, inputs):\n",
    "        return tf.mutmul(inputs, self.w) + self.b\n",
    "    \n",
    "    def build(self, input_shape):\n",
    "        self.w = self.add_weight(name=\"w\", shape=(input_shape[-1], self.units), initializer=\"random_normal\", trainable=True)\n",
    "        self.b = self.add_weight(name=\"b\", shape=(self.units, ), initializer=\"zeros\", trainable=True)\n"
   ]
  },
  {
   "cell_type": "code",
   "execution_count": null,
   "id": "7c2aa73d",
   "metadata": {},
   "outputs": [],
   "source": [
    "class MyModel(keras.Model):\n",
    "  def __init__(self, num_classes=10):\n",
    "    super(MyModel, self).__init__()\n",
    "    self.dense1 = Dense(64)\n",
    "    self.dense2 = Dense(num_classes)\n",
    "  \n",
    "  def call(self, input_tensor):\n",
    "    x = tf.nn.relu(self.dense1(input_tensor))\n",
    "    return self.dense2(x)"
   ]
  },
  {
   "cell_type": "code",
   "execution_count": null,
   "id": "e1afa8dd",
   "metadata": {},
   "outputs": [],
   "source": [
    "class MyReLu(layers.Layer):\n",
    "    def __inti__(self):\n",
    "        super(MyReLu, self).__init__()\n",
    "\n",
    "    def call(self, x):\n",
    "        return tf.math.maximun(x, 0)"
   ]
  },
  {
   "cell_type": "code",
   "execution_count": null,
   "id": "e6ab33d4",
   "metadata": {},
   "outputs": [],
   "source": [
    "class MyModel(keras.Model):\n",
    "  def __init__(self, num_classes=10):\n",
    "    super(MyModel, self).__init__()\n",
    "    self.dense1 = Dense(64)\n",
    "    self.dense2 = Dense(num_classes)\n",
    "    self.relu = MyReLu()\n",
    "  \n",
    "  def call(self, input_tensor):\n",
    "    x = self.relu(self.dense1(input_tensor))\n",
    "    return self.dense2(x)"
   ]
  }
 ],
 "metadata": {
  "language_info": {
   "name": "python"
  }
 },
 "nbformat": 4,
 "nbformat_minor": 5
}
