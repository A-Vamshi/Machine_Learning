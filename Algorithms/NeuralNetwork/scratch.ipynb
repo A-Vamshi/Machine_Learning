{
 "cells": [
  {
   "cell_type": "code",
   "execution_count": null,
   "id": "50faa69a",
   "metadata": {},
   "outputs": [],
   "source": [
    "import numpy as np\n",
    "import pandas as pd"
   ]
  },
  {
   "cell_type": "code",
   "execution_count": null,
   "id": "54372813",
   "metadata": {},
   "outputs": [],
   "source": [
    "data = pd.read_csv(\"/kaggle/input/mnist-in-csv/mnist_train.csv\")\n",
    "data = np.array(data)\n",
    "np.random.shuffle(data)\n",
    "data = data.T\n",
    "m, n = data.shape\n",
    "y = data[0]\n",
    "X = data[1:]"
   ]
  },
  {
   "cell_type": "code",
   "execution_count": null,
   "id": "7730e5cf",
   "metadata": {},
   "outputs": [],
   "source": [
    "def init_params():\n",
    "    W1 = np.random.randn(10, 784) * 0.01\n",
    "    W2 = np.random.randn(10, 10) * 0.01\n",
    "    B1 = np.random.randn(10, 1) * 0.01\n",
    "    B2 = np.random.randn(10, 1) * 0.01\n",
    "    return W1, B1, W2, B2\n",
    "\n",
    "def ReLu(Z):\n",
    "    return np.maximum(0, Z)\n",
    "\n",
    "def Softmax(Z):\n",
    "    expZ = np.exp(Z - np.max(Z, axis=0, keepdims=True))\n",
    "    return expZ / np.sum(expZ, axis=0, keepdims=True)\n",
    "\n",
    "def forward_prop(X, y, W1, B1, W2, B2):\n",
    "    Z1 = W1.dot(X) + B1\n",
    "    A1 = ReLu(Z1)\n",
    "    Z2 = W2.dot(A1) + B2\n",
    "    A2 = Softmax(Z2)\n",
    "    return Z1, A1, Z2, A2\n",
    "\n",
    "def one_hot(_y):\n",
    "    one_hot_y = np.zeros((_y.size, _y.max() + 1))\n",
    "    one_hot_y[np.arange(_y.size), _y] = 1\n",
    "    return one_hot_y.T\n",
    "\n",
    "def ReLuDerivative(Z):\n",
    "    return Z > 0\n",
    "\n",
    "def back_prop(Z1, A1, Z2, A2, W2, X, Y):\n",
    "    m = Y.size\n",
    "    Y = one_hot(Y)\n",
    "    dZ2 = A2 - Y\n",
    "    dW2 = (1 / m) * dZ2.dot(A1.T)\n",
    "    dB2 = (1 / m) * np.sum(dZ2, axis=1, keepdims=True)\n",
    "    dZ1 = W2.T.dot(dZ2) * ReLuDerivative(Z1)\n",
    "    dW1 = (1 / m) * dZ1.dot(X.T)\n",
    "    dB1 = (1 / m) * np.sum(dZ1, axis=1, keepdims=True)\n",
    "    return dW1, dB1, dW2, dB2\n",
    "\n",
    "def update_params(W1, B1, W2, B2, dW1, dB1, dW2, dB2, alpha):\n",
    "    W1 = W1 - alpha * dW1\n",
    "    W2 = W2 - alpha * dW2\n",
    "    B1 = B1 - alpha * dB1\n",
    "    B2 = B2 - alpha * dB2\n",
    "    return W1, B1, W2, B2\n"
   ]
  },
  {
   "cell_type": "code",
   "execution_count": null,
   "id": "0b5aee1f",
   "metadata": {},
   "outputs": [],
   "source": [
    "def get_predictions(A2):\n",
    "    return np.argmax(A2, 0)\n",
    "\n",
    "def get_accuracy(preds, Y):\n",
    "    return np.sum(preds == Y) / Y.size\n",
    "\n",
    "\n",
    "def gradient_descent(X, y, epochs=1000, alpha=0.01):\n",
    "    W1, B1, W2, B2 = init_params()\n",
    "    for i in range(epochs):\n",
    "        Z1, A1, Z2, A2 = forward_prop(X, y, W1, B1, W2, B2)\n",
    "        dW1, dB1, dW2, dB2 = back_prop(Z1, A1, Z2, A2, W2, X, y)\n",
    "        W1, B1, W2, B2 = update_params(W1, B1, W2, B2, dW1, dB1, dW2, dB2, alpha)\n",
    "        if i % 100 == 0:\n",
    "            print(f\"Iteration {i}: Accuracy = {get_accuracy(get_predictions(A2), y):.4f}\")\n",
    "\n",
    "    return W1, B1, W2, B2"
   ]
  },
  {
   "cell_type": "code",
   "execution_count": null,
   "id": "9f80be99",
   "metadata": {},
   "outputs": [],
   "source": [
    "W1, B1, W2, B2 = gradient_descent(X, y)"
   ]
  }
 ],
 "metadata": {
  "kernelspec": {
   "display_name": "base",
   "language": "python",
   "name": "python3"
  },
  "language_info": {
   "name": "python",
   "version": "3.12.7"
  }
 },
 "nbformat": 4,
 "nbformat_minor": 5
}
